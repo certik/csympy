{
 "cells": [
  {
   "cell_type": "markdown",
   "metadata": {},
   "source": [
    "The whole example from https://pypi.python.org/pypi/pydy"
   ]
  },
  {
   "cell_type": "code",
   "execution_count": 1,
   "metadata": {
    "collapsed": false
   },
   "outputs": [
    {
     "data": {
      "text/plain": [
       "(Matrix([[-c*v(t) + g*m - k*x(t) + F(t)]]), Matrix([[-m*Derivative(v(t), t)]]))"
      ]
     },
     "execution_count": 1,
     "metadata": {},
     "output_type": "execute_result"
    }
   ],
   "source": [
    "from sympy import symbols\n",
    "import sympy.physics.mechanics as me\n",
    "\n",
    "mass, stiffness, damping, gravity = symbols('m, k, c, g')\n",
    "\n",
    "position, speed = me.dynamicsymbols('x v')\n",
    "positiond = me.dynamicsymbols('x', 1)\n",
    "force = me.dynamicsymbols('F')\n",
    "\n",
    "ceiling = me.ReferenceFrame('N')\n",
    "\n",
    "origin = me.Point('origin')\n",
    "origin.set_vel(ceiling, 0)\n",
    "\n",
    "center = origin.locatenew('center', position * ceiling.x)\n",
    "center.set_vel(ceiling, speed * ceiling.x)\n",
    "\n",
    "block = me.Particle('block', center, mass)\n",
    "\n",
    "kinematic_equations = [speed - positiond]\n",
    "\n",
    "force_magnitude = mass * gravity - stiffness * position - damping * speed + force\n",
    "forces = [(center, force_magnitude * ceiling.x)]\n",
    "\n",
    "particles = [block]\n",
    "\n",
    "kane = me.KanesMethod(ceiling, q_ind=[position], u_ind=[speed],\n",
    "                      kd_eqs=kinematic_equations)\n",
    "kane.kanes_equations(forces, particles)"
   ]
  },
  {
   "cell_type": "code",
   "execution_count": 2,
   "metadata": {
    "collapsed": false
   },
   "outputs": [
    {
     "name": "stderr",
     "output_type": "stream",
     "text": [
      "/home/ondrej/.hashdist/bld/profile/y5xkyowofage/lib/python2.7/site-packages/pydy/system.py:102: PyDyFutureWarning: PyDy System is experimental and may change in the future.\n",
      "  warnings.warn(msg, PyDyFutureWarning)\n"
     ]
    }
   ],
   "source": [
    "from numpy import array, linspace, sin\n",
    "from pydy.system import System\n",
    "\n",
    "sys = System(kane,\n",
    "             constants={mass: 1.0, stiffness: 1.0,\n",
    "                        damping: 0.2, gravity: 9.8},\n",
    "             specifieds={force: lambda x, t: sin(t)},\n",
    "             initial_conditions={position: 0.1, speed: -1.0},\n",
    "             times=linspace(0.0, 10.0, 1000))"
   ]
  },
  {
   "cell_type": "code",
   "execution_count": 3,
   "metadata": {
    "collapsed": true
   },
   "outputs": [],
   "source": [
    "y = sys.integrate()"
   ]
  },
  {
   "cell_type": "code",
   "execution_count": 4,
   "metadata": {
    "collapsed": true
   },
   "outputs": [],
   "source": [
    "%matplotlib inline"
   ]
  },
  {
   "cell_type": "code",
   "execution_count": 5,
   "metadata": {
    "collapsed": false
   },
   "outputs": [
    {
     "data": {
      "image/png": "[encoded data removed]",
      "text/plain": [
       "<matplotlib.figure.Figure at 0x7f805260c190>"
      ]
     },
     "metadata": {},
     "output_type": "display_data"
    }
   ],
   "source": [
    "import matplotlib.pyplot as plt\n",
    "\n",
    "plt.plot(sys.times, y)\n",
    "plt.legend((str(position), str(speed)))\n",
    "plt.show()"
   ]
  },
  {
   "cell_type": "markdown",
   "metadata": {},
   "source": [
    "# Equations for pendulum"
   ]
  },
  {
   "cell_type": "code",
   "execution_count": 6,
   "metadata": {
    "collapsed": false
   },
   "outputs": [
    {
     "data": {
      "text/plain": [
       "Matrix([\n",
       "[q0(t)],\n",
       "[q1(t)],\n",
       "[q2(t)],\n",
       "[u0(t)],\n",
       "[u1(t)],\n",
       "[u2(t)]])"
      ]
     },
     "execution_count": 6,
     "metadata": {},
     "output_type": "execute_result"
    }
   ],
   "source": [
    "from pydy.models import n_link_pendulum_on_cart\n",
    "sys = n_link_pendulum_on_cart(2) # Change to 20\n",
    "sys.coordinates\n",
    "sys.eom_method.q\n",
    "sys.eom_method.u\n",
    "sys.states\n",
    "import sympy as sm\n",
    "x = sm.Matrix(sys.states)\n",
    "F = sys.eom_method.forcing\n",
    "x"
   ]
  },
  {
   "cell_type": "code",
   "execution_count": 7,
   "metadata": {
    "collapsed": false
   },
   "outputs": [],
   "source": [
    "#F"
   ]
  },
  {
   "cell_type": "code",
   "execution_count": 8,
   "metadata": {
    "collapsed": false
   },
   "outputs": [],
   "source": [
    "#F.jacobian(x)"
   ]
  },
  {
   "cell_type": "markdown",
   "metadata": {},
   "source": [
    "Convert to SymEngine"
   ]
  },
  {
   "cell_type": "code",
   "execution_count": 9,
   "metadata": {
    "collapsed": false
   },
   "outputs": [],
   "source": [
    "import symengine as se"
   ]
  },
  {
   "cell_type": "code",
   "execution_count": 10,
   "metadata": {
    "collapsed": false
   },
   "outputs": [],
   "source": [
    "F_se = se.sympify(F)\n",
    "x_se = se.sympify(x)"
   ]
  },
  {
   "cell_type": "code",
   "execution_count": 11,
   "metadata": {
    "collapsed": false
   },
   "outputs": [],
   "source": [
    "# segfaults...\n",
    "# F_se.det()"
   ]
  },
  {
   "cell_type": "code",
   "execution_count": 12,
   "metadata": {
    "collapsed": false
   },
   "outputs": [
    {
     "data": {
      "text/plain": [
       "l0*m1*cos(q1(t))*u1(t)**2 + l1*m2*cos(q2(t))*u2(t)**2 + l0*m2*cos(q1(t))*u1(t)**2 + F(t)"
      ]
     },
     "execution_count": 12,
     "metadata": {},
     "output_type": "execute_result"
    }
   ],
   "source": [
    "F_se.get(0, 0)"
   ]
  },
  {
   "cell_type": "markdown",
   "metadata": {},
   "source": [
    "SymPy differentiation:"
   ]
  },
  {
   "cell_type": "code",
   "execution_count": 13,
   "metadata": {
    "collapsed": false
   },
   "outputs": [
    {
     "name": "stdout",
     "output_type": "stream",
     "text": [
      "CPU times: user 21.4 ms, sys: 87 µs, total: 21.5 ms\n",
      "Wall time: 19.7 ms\n"
     ]
    }
   ],
   "source": [
    "%time a = F[0, 0].diff(x[1, 0])"
   ]
  },
  {
   "cell_type": "code",
   "execution_count": 14,
   "metadata": {
    "collapsed": false
   },
   "outputs": [
    {
     "data": {
      "text/plain": [
       "-l0*m1*u1(t)**2*sin(q1(t)) - l0*m2*u1(t)**2*sin(q1(t))"
      ]
     },
     "execution_count": 14,
     "metadata": {},
     "output_type": "execute_result"
    }
   ],
   "source": [
    "a"
   ]
  },
  {
   "cell_type": "code",
   "execution_count": 15,
   "metadata": {
    "collapsed": false
   },
   "outputs": [],
   "source": [
    "q1_se = se.Symbol(\"q1\")\n",
    "t_se = se.Symbol(\"t\")\n",
    "q1t_se = se.function_symbol(\"q1\", t_se)"
   ]
  },
  {
   "cell_type": "code",
   "execution_count": 16,
   "metadata": {
    "collapsed": false
   },
   "outputs": [
    {
     "name": "stdout",
     "output_type": "stream",
     "text": [
      "CPU times: user 0 ns, sys: 0 ns, total: 0 ns\n",
      "Wall time: 177 µs\n"
     ]
    }
   ],
   "source": [
    "%time tmp = F_se.get(0, 0).subs(q1t_se, q1_se)"
   ]
  },
  {
   "cell_type": "markdown",
   "metadata": {},
   "source": [
    "SymEngine differentation:"
   ]
  },
  {
   "cell_type": "code",
   "execution_count": 17,
   "metadata": {
    "collapsed": false
   },
   "outputs": [
    {
     "name": "stdout",
     "output_type": "stream",
     "text": [
      "CPU times: user 0 ns, sys: 0 ns, total: 0 ns\n",
      "Wall time: 129 µs\n"
     ]
    }
   ],
   "source": [
    "%time a2 = tmp.diff(q1_se)"
   ]
  },
  {
   "cell_type": "code",
   "execution_count": 18,
   "metadata": {
    "collapsed": false
   },
   "outputs": [
    {
     "data": {
      "text/plain": [
       "-l0*m1*sin(q1)*u1(t)**2 - l0*m2*sin(q1)*u1(t)**2"
      ]
     },
     "execution_count": 18,
     "metadata": {},
     "output_type": "execute_result"
    }
   ],
   "source": [
    "a2"
   ]
  }
 ],
 "metadata": {
  "kernelspec": {
   "display_name": "Python 2",
   "language": "python",
   "name": "python2"
  },
  "language_info": {
   "codemirror_mode": {
    "name": "ipython",
    "version": 2
   },
   "file_extension": ".py",
   "mimetype": "text/x-python",
   "name": "python",
   "nbconvert_exporter": "python",
   "pygments_lexer": "ipython2",
   "version": "2.7.9"
  }
 },
 "nbformat": 4,
 "nbformat_minor": 0
}
